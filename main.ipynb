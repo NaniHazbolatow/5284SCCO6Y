{
 "cells": [
  {
   "cell_type": "markdown",
   "metadata": {},
   "source": [
    "# Assignment set 1"
   ]
  },
  {
   "cell_type": "code",
   "execution_count": 1,
   "metadata": {},
   "outputs": [],
   "source": [
    "from src.exercise1_1 import animate_wave, plotting_snapshots, calculate_wave\n",
    "from src.exercise1_2 import analytical_vs_experimental, plot_heatmap, animate_diffusion\n",
    "from IPython.display import HTML\n",
    "import matplotlib.pyplot as plt\n",
    "\n",
    "plt.rcParams['animation.embed_limit'] = 50"
   ]
  },
  {
   "cell_type": "markdown",
   "metadata": {},
   "source": [
    "#### Exercise 1.1"
   ]
  },
  {
   "cell_type": "code",
   "execution_count": 8,
   "metadata": {},
   "outputs": [],
   "source": [
    "L = 1\n",
    "c = 1\n",
    "N = 500\n",
    "dt = 0.001\n",
    "timesteps = 1000\n",
    "initial_cond = 3\n",
    "snapshot_arr = [0, 100, 200, 300, 400]\n",
    "wave_data, x = calculate_wave(L, c, N, dt, timesteps, initial_cond)"
   ]
  },
  {
   "cell_type": "code",
   "execution_count": null,
   "metadata": {},
   "outputs": [],
   "source": [
    "plotting_snapshots(wave_data, x, snapshot_arr)"
   ]
  },
  {
   "cell_type": "code",
   "execution_count": null,
   "metadata": {},
   "outputs": [],
   "source": [
    "ani = animate_wave(wave_data, x, timesteps)\n",
    "HTML(ani.to_jshtml())"
   ]
  },
  {
   "cell_type": "markdown",
   "metadata": {},
   "source": [
    "#### Exercise 1.2"
   ]
  },
  {
   "cell_type": "code",
   "execution_count": null,
   "metadata": {},
   "outputs": [],
   "source": [
    "N = 100\n",
    "dt = 0.00001\n",
    "dx = 1/N\n",
    "D = 1\n",
    "test_times = [0, 0.001, 0.01, 0.1, 1]\n",
    "num_frames = 100\n",
    "\n",
    "if 4*dt*D/(dx**2) <= 1:\n",
    "    print('Stable')\n",
    "else:\n",
    "    raise ValueError('Not stable, reduce dt')"
   ]
  },
  {
   "cell_type": "code",
   "execution_count": null,
   "metadata": {},
   "outputs": [],
   "source": [
    "analytical_vs_experimental(test_times, N, dt, dx, D)"
   ]
  },
  {
   "cell_type": "code",
   "execution_count": null,
   "metadata": {},
   "outputs": [],
   "source": [
    "\n",
    "# plot_heatmap(test_times[-1], N, dt, dx, D)\n"
   ]
  },
  {
   "cell_type": "code",
   "execution_count": null,
   "metadata": {},
   "outputs": [],
   "source": [
    "\n",
    "# animate_diffusion(num_frames, N, dt, dx, D)"
   ]
  }
 ],
 "metadata": {
  "kernelspec": {
   "display_name": "base",
   "language": "python",
   "name": "python3"
  },
  "language_info": {
   "codemirror_mode": {
    "name": "ipython",
    "version": 3
   },
   "file_extension": ".py",
   "mimetype": "text/x-python",
   "name": "python",
   "nbconvert_exporter": "python",
   "pygments_lexer": "ipython3",
   "version": "3.11.5"
  }
 },
 "nbformat": 4,
 "nbformat_minor": 2
}
