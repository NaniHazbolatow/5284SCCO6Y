{
 "cells": [
  {
   "cell_type": "markdown",
   "metadata": {},
   "source": [
    "# Assignment set 1"
   ]
  },
  {
   "cell_type": "code",
   "execution_count": null,
   "metadata": {},
   "outputs": [],
   "source": [
    "from src.exercise1_1 import animate_wave, plotting_snapshots, calculate_wave\n",
    "from src.exercise1_2 import analytical_vs_experimental, plot_heatmap, animate_diffusion\n",
    "from src.exercise1_6 import *\n",
    "from IPython.display import HTML\n",
    "import matplotlib.pyplot as plt\n",
    "\n",
    "plt.rcParams['animation.embed_limit'] = 50"
   ]
  },
  {
   "cell_type": "markdown",
   "metadata": {},
   "source": [
    "#### Exercise 1.1"
   ]
  },
  {
   "cell_type": "code",
   "execution_count": null,
   "metadata": {},
   "outputs": [],
   "source": [
    "L = 1\n",
    "c = 1\n",
    "N = 500\n",
    "dt = 0.001\n",
    "timesteps = 1000\n",
    "initial_cond = 3\n",
    "snapshot_arr = [0, 100, 200, 300, 400]\n",
    "wave_data, x = calculate_wave(L, c, N, dt, timesteps, initial_cond)"
   ]
  },
  {
   "cell_type": "code",
   "execution_count": null,
   "metadata": {},
   "outputs": [],
   "source": [
    "plotting_snapshots(wave_data, x, snapshot_arr)"
   ]
  },
  {
   "cell_type": "code",
   "execution_count": null,
   "metadata": {},
   "outputs": [],
   "source": [
    "ani = animate_wave(wave_data, x, timesteps)\n",
    "HTML(ani.to_jshtml())"
   ]
  },
  {
   "cell_type": "markdown",
   "metadata": {},
   "source": [
    "#### Exercise 1.2"
   ]
  },
  {
   "cell_type": "code",
   "execution_count": null,
   "metadata": {},
   "outputs": [],
   "source": [
    "N = 100\n",
    "dt = 0.00001\n",
    "dx = 1/N\n",
    "D = 1\n",
    "test_times = [0, 0.001, 0.01, 0.1, 1]\n",
    "num_frames = 100\n",
    "\n",
    "if 4*dt*D/(dx**2) <= 1:\n",
    "    print('Stable')\n",
    "else:\n",
    "    raise ValueError('Not stable, reduce dt')"
   ]
  },
  {
   "cell_type": "code",
   "execution_count": null,
   "metadata": {},
   "outputs": [],
   "source": [
    "analytical_vs_experimental(test_times, N, dt, dx, D)"
   ]
  },
  {
   "cell_type": "code",
   "execution_count": null,
   "metadata": {},
   "outputs": [],
   "source": [
    "plot_heatmap(test_times[-3], N, dt, dx, D)"
   ]
  },
  {
   "cell_type": "code",
   "execution_count": null,
   "metadata": {},
   "outputs": [],
   "source": [
    "ani = animate_diffusion(num_frames, N, dt, dx, D)\n",
    "HTML(ani.to_jshtml())"
   ]
  },
  {
   "cell_type": "code",
   "execution_count": null,
   "metadata": {},
   "outputs": [],
   "source": [
    "N = 100\n",
    "eps = 1e-5\n",
    "max_iter = int(2e4)\n",
    "omegas = np.linspace(1.7, 2, 100)\n",
    "Ns = np.linspace(10, 100, 10)\n",
    "\n",
    "# per row: i_min, i_max, j_min, j_max\n",
    "one_square = np.array([[18, 22, 48, 52]])\n",
    "\n",
    "two_square = np.array([[18, 22, 31, 35],\n",
    "                       [18, 22, 64, 68]])\n",
    "\n",
    "three_square = np.array([[18, 22, 23, 27],\n",
    "                         [18, 22, 48, 52],\n",
    "                         [18, 22, 73, 77]])"
   ]
  },
  {
   "cell_type": "code",
   "execution_count": null,
   "metadata": {},
   "outputs": [],
   "source": [
    "# Compare the linear behaviour of the concentration for multiple iterative schemes\n",
    "compare_methods_to_analytical(N, 1.95, eps, max_iter)"
   ]
  },
  {
   "cell_type": "code",
   "execution_count": null,
   "metadata": {},
   "outputs": [],
   "source": [
    "# The convergence versus the number of iterations for different numerical methods (and different values of omega for SOR)\n",
    "convergence_measure(N, [1.75, 1.85, 1.95], eps, max_iter)"
   ]
  },
  {
   "cell_type": "code",
   "execution_count": null,
   "metadata": {},
   "outputs": [],
   "source": [
    "# Finding the optimal omega for the SOR method and how it changes with N\n",
    "optimal_omega(Ns, omegas, eps, max_iter)"
   ]
  },
  {
   "cell_type": "code",
   "execution_count": null,
   "metadata": {},
   "outputs": [],
   "source": [
    "# The convergence versus the number of iterations for a different number of squares in the grid, N=100, omega=1.95\n",
    "convergence_with_objects([one_square, two_square, three_square], N, 1.95, eps, max_iter)"
   ]
  },
  {
   "cell_type": "code",
   "execution_count": null,
   "metadata": {},
   "outputs": [],
   "source": [
    "# The effect of objects on the optimal value for omega, N = 100\n",
    "opt_omega = optimal_omega([100], omegas, eps, max_iter, plot=False)\n",
    "print(f'The optimal omega without squares is {opt_omega[0]}')\n",
    "optimal_omega_with_objects([one_square, two_square, three_square], N, omegas, eps, max_iter)"
   ]
  },
  {
   "cell_type": "code",
   "execution_count": null,
   "metadata": {},
   "outputs": [],
   "source": [
    "# Plot the final grid with the three squares, N=100, omega=1.95\n",
    "final_grid, _, _ = SOR_object(init_objects(three_square, N), N, 1.95, eps, max_iter)\n",
    "plt.figure(figsize=(7, 5))\n",
    "plt.imshow(final_grid, extent=[0, 1, 0, 1])\n",
    "plt.xlabel('x', fontsize=14)\n",
    "plt.ylabel('y', fontsize=14)\n",
    "plt.title(f'Diffusion in 2D with concentration sinks', fontsize=15)\n",
    "plt.colorbar(label='Concentration')\n",
    "plt.tight_layout()\n",
    "plt.show()"
   ]
  }
 ],
 "metadata": {
  "kernelspec": {
   "display_name": "base",
   "language": "python",
   "name": "python3"
  },
  "language_info": {
   "codemirror_mode": {
    "name": "ipython",
    "version": 3
   },
   "file_extension": ".py",
   "mimetype": "text/x-python",
   "name": "python",
   "nbconvert_exporter": "python",
   "pygments_lexer": "ipython3",
   "version": "3.11.5"
  }
 },
 "nbformat": 4,
 "nbformat_minor": 2
}
