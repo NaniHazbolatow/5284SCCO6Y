{
 "cells": [
  {
   "cell_type": "markdown",
   "metadata": {},
   "source": [
    "# Eigenmodes, steady-state problems and efficient time integration\n",
    "\n",
    "#### Job Marcelis, Ernani Hazbolatow, Koen Verlaan"
   ]
  },
  {
   "cell_type": "code",
   "execution_count": null,
   "metadata": {},
   "outputs": [],
   "source": [
    "import numpy as np\n",
    "from src.eigenmodes import *\n",
    "from IPython.display import HTML\n",
    "\n",
    "plt.rcParams['animation.embed_limit'] = 100"
   ]
  },
  {
   "cell_type": "markdown",
   "metadata": {},
   "source": [
    "## 1: Eigenmodes of drums or membranes of different shapes"
   ]
  },
  {
   "cell_type": "markdown",
   "metadata": {},
   "source": [
    "In this section, we investigate the wave equation of a 2D membrane with fixed boundary conditions along the edge. The 2D wave equation is given by:\n",
    "\\begin{equation}\n",
    "    \\frac{\\partial^2 u}{\\partial t^2} = c^2\\nabla^2 u,\n",
    "\\end{equation}\n",
    "where $u$ is the amplitude and c is the wave speed.\n",
    "\n",
    "We look for a solution of the form:\n",
    "\\begin{equation}\n",
    "    u(x,y,t) = v(x,y)T(t),\n",
    "\\end{equation}\n",
    "where $v(x,y)$ is the spatial solution and $T(t)$ is the temporal solution."
   ]
  },
  {
   "cell_type": "markdown",
   "metadata": {},
   "source": [
    "To discretize $\\nabla^2v(x, y) = Kv(x, y)$, we use a 5-point stencil, namely: $\\frac{1}{h^2}(v_{i+1, j} + v_{i-1, j} + v_{i, j+1} + v_{i, j-1} -4v_{i,j})$. As an example, we use the following 3 by 3 system:"
   ]
  },
  {
   "cell_type": "code",
   "execution_count": null,
   "metadata": {},
   "outputs": [],
   "source": [
    "draw_system_and_matrix(N=3, h=1, plot_system=True)"
   ]
  },
  {
   "cell_type": "markdown",
   "metadata": {},
   "source": [
    "Since this is a 3 by 3 system, we have 9 gridpoints, meaning that our resulting matrix is 9 x 9. The entries in the matrix must placed in such a way that it corresponds to the 5-point stencil mentioned earlier:"
   ]
  },
  {
   "cell_type": "code",
   "execution_count": null,
   "metadata": {},
   "outputs": [],
   "source": [
    "draw_system_and_matrix(N=3, h=1, print_latex_matrix=True, plot_system=False)"
   ]
  },
  {
   "cell_type": "markdown",
   "metadata": {},
   "source": [
    "This matrix looks like:\n",
    "\n",
    "$$\n",
    "    \\left[\\begin{matrix}-4 & 1 & 0 & 1 & 0 & 0 & 0 & 0 & 0\\\\1 & -4 & 1 & 0 & 1 & 0 & 0 & 0 & 0\\\\0 & 1 & -4 & 0 & 0 & 1 & 0 & 0 & 0\\\\1 & 0 & 0 & -4 & 1 & 0 & 1 & 0 & 0\\\\0 & 1 & 0 & 1 & -4 & 1 & 0 & 1 & 0\\\\0 & 0 & 1 & 0 & 1 & -4 & 0 & 0 & 1\\\\0 & 0 & 0 & 1 & 0 & 0 & -4 & 1 & 0\\\\0 & 0 & 0 & 0 & 1 & 0 & 1 & -4 & 1\\\\0 & 0 & 0 & 0 & 0 & 1 & 0 & 1 & -4\\end{matrix}\\right]\n",
    "$$"
   ]
  },
  {
   "cell_type": "markdown",
   "metadata": {},
   "source": [
    "We have implemented 3 different shapes for the drums/membranes. For each shape the matrix is constructed slightly differently and the equation $Mv = Kv$ is solved using `scipy.sprase.linalg.eigs`. This was done because the matrices are sparse by nature and the calculation would therefore be slow when using `scipy` functions designed for dense matrices. Below we plot the eigenmodes for some of the smallest eigenfrequencies for each shape.\n",
    "\n",
    "Square:"
   ]
  },
  {
   "cell_type": "code",
   "execution_count": null,
   "metadata": {},
   "outputs": [],
   "source": [
    "L = 1\n",
    "h = 0.01\n",
    "N = int(L/h) - 1\n",
    "M_square = construct_M_square(N, h)\n",
    "lamda, v = linalg.eigs(M_square, k=4, which='SM')\n",
    "plot_eigenvectors(lamda, v, grid_shape=(N,N), L=L, plot_title='Eigenmodes of Square Membrane')"
   ]
  },
  {
   "cell_type": "markdown",
   "metadata": {},
   "source": [
    "Rectangle:"
   ]
  },
  {
   "cell_type": "code",
   "execution_count": null,
   "metadata": {},
   "outputs": [],
   "source": [
    "L = 1\n",
    "hx = 0.01\n",
    "hy = 0.02\n",
    "Nx = int(L/hx) - 1\n",
    "Ny = int(2*L/hy) - 1\n",
    "M_rec = construct_M_rec(Nx, Ny, hx, hy)\n",
    "lamda, v = linalg.eigs(M_rec, k=4, which='SM')\n",
    "plot_eigenvectors(lamda, v, grid_shape=(Ny, Nx), L=L, shape='rectangle', plot_title='Eigenmodes of Rectangular Membrane')"
   ]
  },
  {
   "cell_type": "markdown",
   "metadata": {},
   "source": [
    "Circle:"
   ]
  },
  {
   "cell_type": "code",
   "execution_count": null,
   "metadata": {},
   "outputs": [],
   "source": [
    "M_circle = construct_M_circle(N, h, L)\n",
    "lamda, v = linalg.eigs(M_circle, k=4, which='SM')\n",
    "plot_eigenvectors(lamda, v, grid_shape=(N,N), L=L, plot_title='Eigenmodes of Circular Membrane')"
   ]
  },
  {
   "cell_type": "markdown",
   "metadata": {},
   "source": [
    "As mentioned above, we use `eigs()` to compute the eigenvalues and eigenvector since the matrix is sparse. To obtain insight in how much faster `eigs()` is compared to `eig()`, we test the performance on a square grid with different system sizes. Each system size is done 25 times to obtain an average with confidence intervals."
   ]
  },
  {
   "cell_type": "code",
   "execution_count": null,
   "metadata": {},
   "outputs": [],
   "source": [
    "Ns = np.linspace(10, 30, 15)\n",
    "num_runs = 25\n",
    "mean_eig, CI_eig, mean_eigs, CI_eigs = performance_compare(Ns, num_runs, plot=True)"
   ]
  },
  {
   "cell_type": "markdown",
   "metadata": {},
   "source": [
    "We now investigate what happends when the system size L is varied by plotting the eigenfrequencies for each shape as a function of L."
   ]
  },
  {
   "cell_type": "code",
   "execution_count": null,
   "metadata": {},
   "outputs": [],
   "source": [
    "Ls = np.linspace(0.5, 2, 10)\n",
    "h = 0.01\n",
    "\n",
    "eig_freq_sq = spectrum_vs_L(Ls, h, 'square')\n",
    "eig_freq_rec = spectrum_vs_L(Ls, h, 'rectangle')\n",
    "eig_freq_cir = spectrum_vs_L(Ls, h, 'circle')\n",
    "\n",
    "plot_spectrum_vs_L(Ls, eig_freq_sq, eig_freq_rec, eig_freq_cir)"
   ]
  },
  {
   "cell_type": "markdown",
   "metadata": {},
   "source": [
    "We also investigate what happens when the number of discretization steps is changed."
   ]
  },
  {
   "cell_type": "code",
   "execution_count": null,
   "metadata": {},
   "outputs": [],
   "source": [
    "Ns = np.linspace(3, 50, 10)\n",
    "L = 1.0\n",
    "\n",
    "freq_vs_N_sq = spectrum_vs_num_steps(Ns, L, 'square')\n",
    "freq_vs_N_rec = spectrum_vs_num_steps(Ns, L, 'rectangle')\n",
    "freq_vs_N_cir = spectrum_vs_num_steps(Ns, L, 'circle')\n",
    "\n",
    "plot_spectrum_vs_num_steps(Ns, freq_vs_N_sq, freq_vs_N_rec, freq_vs_N_cir)"
   ]
  },
  {
   "cell_type": "markdown",
   "metadata": {},
   "source": [
    "In addition to the solution of the eigenvalue problem, we add the time component. We then have a solution of the form: $u(x,y,t) = v(x,y)T(t)$, where $T(t) = Acos(c\\lambda t) + Bsin(c\\lambda t)$. To simplify, we choose $c = 1$, $A = 1$, and $B=0$."
   ]
  },
  {
   "cell_type": "code",
   "execution_count": null,
   "metadata": {},
   "outputs": [],
   "source": [
    "c = 1\n",
    "L = 1\n",
    "h = 0.01\n",
    "N = int(L/h) - 1\n",
    "total_time = np.linspace(0, 20*np.pi, 100)\n",
    "M_square = construct_M_square(N, h)\n",
    "lamda, v = linalg.eigs(M_square, k=8, which='SM')\n",
    "idx = np.flip(np.argsort(np.real(lamda)))\n",
    "lamda = lamda[idx]\n",
    "v = v[:, idx]"
   ]
  },
  {
   "cell_type": "code",
   "execution_count": null,
   "metadata": {},
   "outputs": [],
   "source": [
    "ani1 = time_dependent_modes(total_time, c, lamda, v, N, mode_number=4)\n",
    "HTML(ani1.to_jshtml())"
   ]
  },
  {
   "cell_type": "code",
   "execution_count": null,
   "metadata": {},
   "outputs": [],
   "source": [
    "ani2 = time_dependent_modes(total_time, c, lamda, v, N, mode_number=6)\n",
    "HTML(ani2.to_jshtml())"
   ]
  }
 ],
 "metadata": {
  "kernelspec": {
   "display_name": "base",
   "language": "python",
   "name": "python3"
  },
  "language_info": {
   "codemirror_mode": {
    "name": "ipython",
    "version": 3
   },
   "file_extension": ".py",
   "mimetype": "text/x-python",
   "name": "python",
   "nbconvert_exporter": "python",
   "pygments_lexer": "ipython3",
   "version": "3.11.5"
  }
 },
 "nbformat": 4,
 "nbformat_minor": 2
}
