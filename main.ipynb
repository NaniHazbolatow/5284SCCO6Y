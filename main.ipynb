{
 "cells": [
  {
   "cell_type": "markdown",
   "metadata": {},
   "source": [
    "# Eigenmodes, steady-state problems and efficient time integration\n",
    "\n",
    "#### Job Marcelis, Ernani Hazbolatow, Koen Verlaan"
   ]
  },
  {
   "cell_type": "code",
   "execution_count": null,
   "metadata": {},
   "outputs": [],
   "source": [
    "import numpy as np\n",
    "from src.eigenmodes import *\n",
    "from src.leapfrog import *\n",
    "from src.steadystate import *\n",
    "from IPython.display import HTML\n",
    "from matplotlib.animation import PillowWriter\n",
    "\n",
    "\n",
    "plt.rcParams['animation.embed_limit'] = 150"
   ]
  },
  {
   "cell_type": "markdown",
   "metadata": {},
   "source": [
    "## 1: Eigenmodes of drums or membranes of different shapes"
   ]
  },
  {
   "cell_type": "markdown",
   "metadata": {},
   "source": [
    "In this section, we investigate the wave equation of a 2D membrane with fixed boundary conditions along the edge. The 2D wave equation is given by:\n",
    "\\begin{equation}\n",
    "    \\frac{\\partial^2 u}{\\partial t^2} = c^2\\nabla^2 u,\n",
    "\\end{equation}\n",
    "where $u$ is the amplitude and c is the wave speed.\n",
    "\n",
    "We look for a solution of the form:\n",
    "\\begin{equation}\n",
    "    u(x,y,t) = v(x,y)T(t),\n",
    "\\end{equation}\n",
    "where $v(x,y)$ is the spatial solution and $T(t)$ is the temporal solution."
   ]
  },
  {
   "cell_type": "markdown",
   "metadata": {},
   "source": [
    "To discretize $\\nabla^2v(x, y) = Kv(x, y)$, we use a 5-point stencil, namely: $\\frac{1}{h^2}(v_{i+1, j} + v_{i-1, j} + v_{i, j+1} + v_{i, j-1} -4v_{i,j})$. As an example, we use the following 3 by 3 system:"
   ]
  },
  {
   "cell_type": "code",
   "execution_count": null,
   "metadata": {},
   "outputs": [],
   "source": [
    "draw_system_and_matrix(N=3, h=1, plot_system=True)"
   ]
  },
  {
   "cell_type": "markdown",
   "metadata": {},
   "source": [
    "Since this is a 3 by 3 system, we have 9 gridpoints, meaning that our resulting matrix is 9 x 9. The entries in the matrix must placed in such a way that it corresponds to the 5-point stencil mentioned earlier:"
   ]
  },
  {
   "cell_type": "code",
   "execution_count": null,
   "metadata": {},
   "outputs": [],
   "source": [
    "draw_system_and_matrix(N=3, h=1, print_latex_matrix=True, plot_system=False)"
   ]
  },
  {
   "cell_type": "markdown",
   "metadata": {},
   "source": [
    "This matrix looks like:\n",
    "\n",
    "$$\n",
    "    \\left[\\begin{matrix}-4 & 1 & 0 & 1 & 0 & 0 & 0 & 0 & 0\\\\1 & -4 & 1 & 0 & 1 & 0 & 0 & 0 & 0\\\\0 & 1 & -4 & 0 & 0 & 1 & 0 & 0 & 0\\\\1 & 0 & 0 & -4 & 1 & 0 & 1 & 0 & 0\\\\0 & 1 & 0 & 1 & -4 & 1 & 0 & 1 & 0\\\\0 & 0 & 1 & 0 & 1 & -4 & 0 & 0 & 1\\\\0 & 0 & 0 & 1 & 0 & 0 & -4 & 1 & 0\\\\0 & 0 & 0 & 0 & 1 & 0 & 1 & -4 & 1\\\\0 & 0 & 0 & 0 & 0 & 1 & 0 & 1 & -4\\end{matrix}\\right]\n",
    "$$"
   ]
  },
  {
   "cell_type": "markdown",
   "metadata": {},
   "source": [
    "We have implemented 3 different shapes for the drums/membranes. For each shape the matrix is constructed slightly differently and the equation $Mv = Kv$ is solved using `scipy.sprase.linalg.eigs`. This was done because the matrices are sparse by nature and the calculation would therefore be slow when using `scipy` functions designed for dense matrices. Below we plot the eigenmodes for some of the smallest eigenfrequencies for each shape.\n",
    "\n",
    "Square:"
   ]
  },
  {
   "cell_type": "code",
   "execution_count": null,
   "metadata": {},
   "outputs": [],
   "source": [
    "L = 1\n",
    "h = 0.01\n",
    "N = int(L/h) - 1\n",
    "M_square = construct_M_square(N, h)\n",
    "lamda, v = linalg.eigs(M_square, k=4, which='SM')\n",
    "plot_eigenvectors(lamda, v, grid_shape=(N,N), L=L, plot_title='Eigenmodes of Square Membrane')"
   ]
  },
  {
   "cell_type": "markdown",
   "metadata": {},
   "source": [
    "Rectangle:"
   ]
  },
  {
   "cell_type": "code",
   "execution_count": null,
   "metadata": {},
   "outputs": [],
   "source": [
    "L = 1\n",
    "hx = 0.01\n",
    "hy = 0.02\n",
    "Nx = int(L/hx) - 1\n",
    "Ny = int(2*L/hy) - 1\n",
    "M_rec = construct_M_rec(Nx, Ny, hx, hy)\n",
    "lamda, v = linalg.eigs(M_rec, k=4, which='SM')\n",
    "plot_eigenvectors(lamda, v, grid_shape=(Ny, Nx), L=L, shape='rectangle', plot_title='Eigenmodes of Rectangular Membrane')"
   ]
  },
  {
   "cell_type": "markdown",
   "metadata": {},
   "source": [
    "Circle:"
   ]
  },
  {
   "cell_type": "code",
   "execution_count": null,
   "metadata": {},
   "outputs": [],
   "source": [
    "M_circle = construct_M_circle(N, h, L)\n",
    "lamda, v = linalg.eigs(M_circle, k=4, which='SM')\n",
    "plot_eigenvectors(lamda, v, grid_shape=(N,N), L=L, plot_title='Eigenmodes of Circular Membrane')"
   ]
  },
  {
   "cell_type": "markdown",
   "metadata": {},
   "source": [
    "As mentioned above, we use `eigs()` to compute the eigenvalues and eigenvector since the matrix is sparse. To obtain insight in how much faster `eigs()` is compared to `eig()`, we test the performance on a square grid with different system sizes. Each system size is done 25 times to obtain an average with confidence intervals."
   ]
  },
  {
   "cell_type": "code",
   "execution_count": null,
   "metadata": {},
   "outputs": [],
   "source": [
    "Ns = np.linspace(10, 30, 15)\n",
    "num_runs = 25\n",
    "mean_eig, CI_eig, mean_eigs, CI_eigs = performance_compare(Ns, num_runs, plot=True)"
   ]
  },
  {
   "cell_type": "markdown",
   "metadata": {},
   "source": [
    "We now investigate what happends when the system size L is varied by plotting the eigenfrequencies for each shape as a function of L."
   ]
  },
  {
   "cell_type": "code",
   "execution_count": null,
   "metadata": {},
   "outputs": [],
   "source": [
    "Ls = np.linspace(0.25, 2, 15)\n",
    "h = 0.01\n",
    "\n",
    "eig_freq_sq = spectrum_vs_L(Ls, h, 'square')\n",
    "eig_freq_rec = spectrum_vs_L(Ls, h, 'rectangle')\n",
    "eig_freq_cir = spectrum_vs_L(Ls, h, 'circle')\n",
    "\n",
    "plot_spectrum_vs_L(Ls, eig_freq_sq, eig_freq_rec, eig_freq_cir)"
   ]
  },
  {
   "cell_type": "markdown",
   "metadata": {},
   "source": [
    "We also investigate what happens when the number of discretization steps is changed."
   ]
  },
  {
   "cell_type": "code",
   "execution_count": null,
   "metadata": {},
   "outputs": [],
   "source": [
    "Ns = np.linspace(3, 50, 15)\n",
    "L = 1.0\n",
    "\n",
    "freq_vs_N_sq = spectrum_vs_num_steps(Ns, L, 'square')\n",
    "freq_vs_N_rec = spectrum_vs_num_steps(Ns, L, 'rectangle')\n",
    "freq_vs_N_cir = spectrum_vs_num_steps(Ns, L, 'circle')\n",
    "\n",
    "plot_spectrum_vs_num_steps(Ns, freq_vs_N_sq, freq_vs_N_rec, freq_vs_N_cir)"
   ]
  },
  {
   "cell_type": "markdown",
   "metadata": {},
   "source": [
    "In addition to the solution of the eigenvalue problem, we add the time component. We then have a solution of the form: $u(x,y,t) = v(x,y)T(t)$, where $T(t) = Acos(c\\lambda t) + Bsin(c\\lambda t)$. To simplify, we choose $c = 1$, $A = 1$, and $B=0$."
   ]
  },
  {
   "cell_type": "code",
   "execution_count": null,
   "metadata": {},
   "outputs": [],
   "source": [
    "c = 1\n",
    "L = 1\n",
    "h = 0.01\n",
    "N = int(L/h) - 1\n",
    "total_time = np.linspace(0, 20*np.pi, 100)\n",
    "M_square = construct_M_square(N, h)\n",
    "lamda, v = linalg.eigs(M_square, k=8, which='SM')\n",
    "idx = np.flip(np.argsort(np.real(lamda)))\n",
    "lamda = lamda[idx]\n",
    "v = v[:, idx]"
   ]
  },
  {
   "cell_type": "code",
   "execution_count": null,
   "metadata": {},
   "outputs": [],
   "source": [
    "ani = time_dependent_modes(total_time, c, lamda, v, N, mode_number=2)\n",
    "# ani.save('mode_2_square_membrane.gif', writer=PillowWriter(fps=30))\n",
    "HTML(ani.to_jshtml())"
   ]
  },
  {
   "cell_type": "code",
   "execution_count": null,
   "metadata": {},
   "outputs": [],
   "source": [
    "ani1 = time_dependent_modes(total_time, c, lamda, v, N, mode_number=4)\n",
    "# ani1.save('mode_4_square_membrane.gif', writer=PillowWriter(fps=30))\n",
    "HTML(ani1.to_jshtml())"
   ]
  },
  {
   "cell_type": "code",
   "execution_count": null,
   "metadata": {},
   "outputs": [],
   "source": [
    "ani2 = time_dependent_modes(total_time, c, lamda, v, N, mode_number=6)\n",
    "# ani2.save('mode_6_square_membrane.gif', writer=PillowWriter(fps=30))\n",
    "HTML(ani2.to_jshtml())"
   ]
  },
  {
   "cell_type": "markdown",
   "metadata": {},
   "source": [
    "## 2: Solving Steady State Problems\n",
    "In this section, we find the steady state of a system by using a direct solver. The domain is defined as a disk of radius $r$ (e.g., $r=2$) centered at the origin. A 2D grid is generated over the interval $[-r, r]$ in both the $x$ and $y$ directions using a specified step size (e.g., step=0.1 or step=0.01). A boolean mask identifies grid points that satisfy $x^2+y^2\\leq r^2$, representing the interior of the circle.\n",
    "\n",
    "We model diffusion in a circular domain by solving the steady state Laplace equation:\n",
    "$$\n",
    "\\nabla^2 c = 0.\n",
    "$$\n",
    "A discrete 2D Laplacian is constructed on a grid covering $[-r, r]$ (with $r=2$) using a 5-point stencil:\n",
    "$$\n",
    "\\nabla^2 c_{i,j} \\approx c_{i+1,j} + c_{i-1,j} + c_{i,j+1} + c_{i,j-1} - 4c_{i,j}.\n",
    "$$\n",
    "Dirichlet boundary conditions are enforced via a mask function.\n",
    "$$\n",
    "\\Phi(x,y)= \\begin{cases}1, & x^2+y^2\\leq r^2,\\\\0, & \\text{otherwise,}\\end{cases}\n",
    "$$\n",
    "which modifies the Laplacian as\n",
    "$$\n",
    "(\\mathbf{D}\\mathbf{M}\\mathbf{D})\\mathbf{c} = \\mathbf{0}.\n",
    "$$\n",
    "A sink is imposed at $(0.6,1.2)$ by fixing the corresponding entry in $\\mathbf{c}$ to 1. The sparse system is solved using $\\texttt{scipy.sparse.linalg.spsolve}$, and the resulting steady state concentration is visualized."
   ]
  },
  {
   "cell_type": "markdown",
   "metadata": {},
   "source": [
    "First, we create an instance of the diffusive circle with step $\\delta x$ = 0.01 and plot the steady state solution. A sink is placed at $(0.6, 1.2)$"
   ]
  },
  {
   "cell_type": "code",
   "execution_count": null,
   "metadata": {},
   "outputs": [],
   "source": [
    "diff_circle_fine = DiffusiveCircle(r=2, step=0.01)\n",
    "diff_circle_fine.initialize_concentration(sinks=((0.6, 1.2),))\n",
    "diff_circle_fine.solve_steady_state()\n",
    "diff_circle_fine.plot_concentration()"
   ]
  },
  {
   "cell_type": "markdown",
   "metadata": {},
   "source": [
    "Now, we create a diffusive circle with $\\delta x = 0.1$. This step size results in poor resolution. However, we will use it to highlight visually the limitation of our methodology. Smooth boundaries are ill-discretionized with the finite difference method. First, we show this for our coarser grid. We zoom in at the boundary as that is where the error will be located."
   ]
  },
  {
   "cell_type": "code",
   "execution_count": null,
   "metadata": {},
   "outputs": [],
   "source": [
    "# Solve and plot.\n",
    "diff_circle_coarse = DiffusiveCircle(r=2, step=0.1)\n",
    "diff_circle_coarse.initialize_concentration(sinks=((0.6, 1.2),))\n",
    "diff_circle_coarse.solve_steady_state()\n",
    "diff_circle_coarse.plot_concentration(zoom=[(1, 1.8), (1, 1.8)])\n"
   ]
  },
  {
   "cell_type": "markdown",
   "metadata": {},
   "source": [
    "We contrast this with the earlier diffusive circle with better resolution. The error is visually gone with our current plot setting, but still exists. We can re-introduce this error visually by normalizing the colormap from $0.05$ to $0$ and zooming in by a factor of $10$. "
   ]
  },
  {
   "cell_type": "code",
   "execution_count": null,
   "metadata": {},
   "outputs": [],
   "source": [
    "diff_circle_fine.plot_concentration(zoom=[(1, 1.8), (1, 1.8)])\n",
    "diff_circle_fine.plot_concentration(zoom=[(1.3, 1.6), (1.3, 1.6)], norm = mcolors.Normalize(vmin=0, vmax=0.05), zoom_factor= 10, zoom_loc='lower left')"
   ]
  },
  {
   "cell_type": "markdown",
   "metadata": {},
   "source": [
    "## 3: Leapfrog method\n",
    "In this section, we demonstrate the leapfrog method for a one dimensional harmonic oscillator. Also, we compare it's energy conservation over long simulation times to the Range-Kutta 45 integrator. Lastly, we introduce a external sinusoidal driving force to the oscillator and observe its effects for various frequencies. "
   ]
  },
  {
   "cell_type": "markdown",
   "metadata": {},
   "source": [
    "To model a one-dimensional harmonic oscillator, we calculate the force following Hookes Law:\n",
    "\\begin{equation}\n",
    "F(x) = -kx,\n",
    "\\end{equation}\n",
    "where k is the spring constant and x is the position.\n",
    "\n",
    "The leapfrog method updates position and velocity at staggered time points:\n",
    "\\begin{equation}\n",
    "x_{n+1} = x_n + v_{n+1/2} \\Delta t\n",
    "\\end{equation}\n",
    "\n",
    "\\begin{equation}\n",
    "v_{n+3/2} = v_{n+1/2} + \\frac{F(x_{n+1})}{m} \\Delta t\n",
    "\\end{equation}\n",
    "\n",
    "For initialization, we compute the half-step velocity:\n",
    "\\begin{equation}\n",
    "v_{1/2} = v_0 + \\frac{1}{2} \\frac{F(x_0)}{m} \\Delta t = v_0 - \\frac{k}{2m} x_0 \\Delta t\n",
    "\\end{equation}\n",
    "\n",
    "We first plot the velocity and position for varying values of k."
   ]
  },
  {
   "cell_type": "code",
   "execution_count": null,
   "metadata": {},
   "outputs": [],
   "source": [
    "# Set parameters\n",
    "m = 1\n",
    "x0 = 1\n",
    "v0 = 0\n",
    "dt = 0.01\n",
    "T = 20\n",
    "\n",
    "# Solve the harmonic oscillator for different values of k\n",
    "Ks = [1, 2, 4]\n",
    "Xs = np.zeros((len(Ks), int(T/dt)+1))\n",
    "Vs = np.zeros((len(Ks), int(T/dt)+1))\n",
    "\n",
    "for k in Ks:\n",
    "    x, v, energy, t = leapfrog_harmonic_oscillator(m, k, x0, v0, dt, T)\n",
    "    Xs[Ks.index(k)] = x\n",
    "    Vs[Ks.index(k)] = v\n",
    "\n",
    "plot_harmonic_oscillator(Ks, Xs, Vs, t)"
   ]
  },
  {
   "cell_type": "markdown",
   "metadata": {},
   "source": [
    "The leapfrog method supposedly is an symplectic integrator, meaning the energy is conserved over a long period of time. We compare it's energy conservation with the RK45 integrator."
   ]
  },
  {
   "cell_type": "code",
   "execution_count": null,
   "metadata": {},
   "outputs": [],
   "source": [
    "k = 1\n",
    "T = 400\n",
    "compare_energy_conservation(m, k, x0, v0, dt, T)"
   ]
  },
  {
   "cell_type": "markdown",
   "metadata": {},
   "source": [
    "Lastly, we introduce a sinusoidal driving force of of which we will observe the effects under different circumstances."
   ]
  },
  {
   "cell_type": "code",
   "execution_count": null,
   "metadata": {},
   "outputs": [],
   "source": [
    "# Different driving amplitudes\n",
    "driving_amplitudes = [0.5, 2.0]\n",
    "\n",
    "# Different frequency ratios\n",
    "frequency_ratios = [0.8, 1.0, 1.2]\n",
    "\n",
    "# Run the analysis\n",
    "driven_oscillator_analysis(m, k, x0, v0, dt, 50.0, \n",
    "                            driving_amplitudes, frequency_ratios)"
   ]
  },
  {
   "cell_type": "markdown",
   "metadata": {},
   "source": [
    "Let's animate the driven oscillator at resonance"
   ]
  },
  {
   "cell_type": "code",
   "execution_count": null,
   "metadata": {},
   "outputs": [],
   "source": [
    "natural_freq = np.sqrt(k/m)\n",
    "resonant_idx = np.argmin(np.abs(np.array(frequency_ratios) - 1.0))\n",
    "resonant_ratio = frequency_ratios[resonant_idx]    \n",
    "animation = animate_driven_oscillator(m, k, x0, v0, dt, 50, \n",
    "                                   driving_force=(driving_amplitudes[0], resonant_ratio*natural_freq))\n",
    "animation.save('driven_oscillator.gif', writer=PillowWriter(fps=30))\n",
    "\n",
    "HTML(animation.to_jshtml())"
   ]
  }
 ],
 "metadata": {
  "kernelspec": {
   "display_name": "base",
   "language": "python",
   "name": "python3"
  },
  "language_info": {
   "codemirror_mode": {
    "name": "ipython",
    "version": 3
   },
   "file_extension": ".py",
   "mimetype": "text/x-python",
   "name": "python",
   "nbconvert_exporter": "python",
   "pygments_lexer": "ipython3",
   "version": "3.11.5"
  }
 },
 "nbformat": 4,
 "nbformat_minor": 2
}
