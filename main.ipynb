{
 "cells": [
  {
   "cell_type": "markdown",
   "metadata": {},
   "source": [
    "# Growth and Pattern Formation: Diffusion-Limited Aggregation and the Gray-Scott model\n",
    "\n",
    "#### Job Marcelis, Ernani Hazbolatow, Koen Verlaan"
   ]
  },
  {
   "cell_type": "markdown",
   "metadata": {},
   "source": [
    "To generate the plots and animations, the functions from the `.py` files in the `src` folder are imported. "
   ]
  },
  {
   "cell_type": "code",
   "execution_count": null,
   "metadata": {},
   "outputs": [],
   "source": [
    "import numpy as np\n",
    "import matplotlib.pyplot as plt\n",
    "from src.gray_scott import plot_gray_scott, animate_gray_scott\n",
    "from src.diffusion import plot_many_dla, compute_fractal_dimensions, stochastic_runs_fd, optimal_omega_eta\n",
    "from src.mc_dla import run_single_mc_dla, compute_fractal_dimensions_mc_dla\n",
    "from IPython.display import HTML\n",
    "\n",
    "plt.rcParams['animation.embed_limit'] = 120"
   ]
  },
  {
   "cell_type": "markdown",
   "metadata": {},
   "source": [
    "### 1: Diffusion Limited Aggregation\n",
    "\n",
    "This section explores the concept of Diffusion Limited Aggregation (DLA), a process where particles randomly move and aggregate to form clusters.\n",
    "The code simulates DLA by releasing particles that stick to an existing seed cluster.\n",
    "The fractal dimension is computed to characterize the branching patterns formed with varying growth bias parameters ($\\eta$)."
   ]
  },
  {
   "cell_type": "code",
   "execution_count": null,
   "metadata": {},
   "outputs": [],
   "source": [
    "plot_many_dla((100, 100), [0, 1, 2], 1000)"
   ]
  },
  {
   "cell_type": "markdown",
   "metadata": {},
   "source": [
    "Plot fractal dimensions for multiple runs at different $\\eta$ values. This code is commented out since it can take a long time to complete. The data is stored in `data_set2/stoch_fractalD_100x100.npz`."
   ]
  },
  {
   "cell_type": "code",
   "execution_count": null,
   "metadata": {},
   "outputs": [],
   "source": [
    "# Run the function with multiple stochastic trials\n",
    "# eta_values = np.linspace(0, 2, 13)  \n",
    "# eta_vals, fractal_means, fractal_stds = stochastic_runs_fd(eta_values, runs=25, grid_size=(100,100))\n",
    "\n",
    "# Save them into a .npz file. \n",
    "# np.savez(\"stochastic_fractal100by100_extra.npz\", eta_vals=eta_vals, fractal_means=fractal_means, fractal_stds=fractal_stds)\n"
   ]
  },
  {
   "cell_type": "code",
   "execution_count": null,
   "metadata": {},
   "outputs": [],
   "source": [
    "data = np.load(\"data_set2/stoch_fractalD_100x100.npz\")\n",
    "\n",
    "# Extract them\n",
    "eta_vals = data[\"eta_vals\"]\n",
    "fractal_means = data[\"fractal_means\"]\n",
    "fractal_stds = data[\"fractal_stds\"]\n",
    "\n",
    "# Plot the results with error bars\n",
    "plt.figure(figsize=(7, 5), dpi=300)\n",
    "plt.errorbar(eta_vals, fractal_means, yerr=1.96*fractal_stds/np.sqrt(25), color='blue', fmt='o', ecolor='gray', elinewidth=2, capsize=4)\n",
    "plt.xlabel(\"Growth Bias Parameter η\", fontsize=15)\n",
    "plt.ylabel(\"Fractal Dimension D\", fontsize=15)\n",
    "plt.title(\"Fractal Dimension vs. η\", fontsize=15)\n",
    "plt.tick_params(axis='both', labelsize=13)\n",
    "plt.tight_layout()\n",
    "plt.grid(linestyle='--')\n",
    "plt.show()\n"
   ]
  },
  {
   "cell_type": "markdown",
   "metadata": {},
   "source": [
    "Plot a 3D plot of the fractal dimension as a function of η and ω."
   ]
  },
  {
   "cell_type": "code",
   "execution_count": null,
   "metadata": {},
   "outputs": [],
   "source": [
    "grid_shape = (100, 100)\n",
    "eta_values = np.linspace(0, 2.0, 10)       # 10 values for eta from 0.5 to 2.0\n",
    "omega_values = np.linspace(1.7, 1.90, 10)       # 10 values for omega from 1.0 to 1.9\n",
    "growth_steps = 3000\n",
    "\n",
    "# Run experiments for each combination of eta and omega.\n",
    "avg_iters = optimal_omega_eta(grid_shape, eta_values, omega_values, growth_steps=growth_steps)\n",
    "\n",
    "# Create a meshgrid for plotting.\n",
    "Omega, Eta = np.meshgrid(omega_values, eta_values)"
   ]
  },
  {
   "cell_type": "code",
   "execution_count": null,
   "metadata": {},
   "outputs": [],
   "source": [
    "# 3D Mesh Plot: x-axis: omega, y-axis: eta, z-axis: average iterations.\n",
    "fig = plt.figure(figsize=(10, 8), dpi=300)\n",
    "ax = fig.add_subplot(111, projection='3d')\n",
    "surf = ax.plot_surface(Omega, Eta, avg_iters, cmap='inferno', edgecolor='none')\n",
    "ax.set_xlabel(\"ω\", fontsize=19)\n",
    "ax.set_ylabel(\"η\", fontsize=19)\n",
    "ax.set_zlabel(\"Average SOR Iterations\", fontsize=17)\n",
    "ax.set_title(f\"Average SOR Iterations vs. ω and η\", fontsize=19)\n",
    "ax.tick_params(axis='both', which='major', labelsize=13) \n",
    "ax.tick_params(axis='z', which='major', labelsize=13)\n",
    "cbar = fig.colorbar(surf, shrink=0.5, aspect=5)\n",
    "cbar.set_label(\"Iteration Count\", fontsize=15)\n",
    "plt.show()"
   ]
  },
  {
   "cell_type": "markdown",
   "metadata": {},
   "source": [
    "### 2: Monte Carlo DLA\n",
    "This section investigates Monte Carlo Diffusion Limited Aggregation (MC-DLA), a stochastic variant of DLA.\n",
    "The code simulates MC-DLA by releasing particles that have a probability ($p_s$) of sticking to the cluster upon contact.\n",
    "The fractal dimension is computed to analyze the impact of the sticking probability on the aggregate's structure."
   ]
  },
  {
   "cell_type": "code",
   "execution_count": null,
   "metadata": {},
   "outputs": [],
   "source": [
    "grid_size = 100\n",
    "iterations = 50000\n",
    "max_growth_steps = 1000\n",
    "probs = [0.2, 0.4, 0.6, 0.8, 1]\n",
    "\n",
    "plt.figure(figsize=(15, 5), dpi=300)\n",
    "for i, sticking_prob in enumerate(probs):\n",
    "    print(f'Running for sticking probability: {sticking_prob}')\n",
    "    plt.subplot(1, len(probs), i + 1) \n",
    "    for i in range(1):\n",
    "        np.set_seed(42+i)\n",
    "        steps, grid = run_single_mc_dla(grid_size, max_growth_steps, iterations, sticking_prob, show_animation=False, show_walkers=False, show_final=False)\n",
    "    plt.imshow(grid, cmap='inferno')\n",
    "    plt.title(f'$p_s$: {sticking_prob}', fontsize=15)\n",
    "    plt.axis('off')\n",
    "    \n",
    "plt.suptitle('MC-DLA Growth Patterns for Different Sticking Probabilities', fontsize=15)\n",
    "plt.tight_layout()"
   ]
  },
  {
   "cell_type": "markdown",
   "metadata": {},
   "source": [
    "Calculate the fractal dimensions multiple runs for varying $p_s$ values."
   ]
  },
  {
   "cell_type": "code",
   "execution_count": null,
   "metadata": {},
   "outputs": [],
   "source": [
    "grid_size = 100\n",
    "iterations = 50000\n",
    "max_growth_steps = 1000\n",
    "probs = np.linspace(0.1, 1, 10)\n",
    "\n",
    "# Run the MC-DLA for each sticking probability\n",
    "fractal_dims = {p: [] for p in probs}\n",
    "\n",
    "for i, sticking_prob in enumerate(probs):\n",
    "    print(f'Running for sticking probability: {sticking_prob}')\n",
    "    for _ in range(25):\n",
    "            np.set_seed(42+i)\n",
    "            steps, grid = run_single_mc_dla(grid_size, max_growth_steps, iterations, sticking_prob, show_animation=False, show_walkers=False, show_final=False)\n",
    "            # Append the fractal dimension to the list for this probability\n",
    "            fractal_dims[sticking_prob].append(compute_fractal_dimensions_mc_dla(grid))\n",
    "\n",
    "# Plot fractal dims\n",
    "plt.figure(figsize=(7, 5), dpi=300)\n",
    "means = [np.mean(fractal_dims[p]) for p in probs]\n",
    "stds = [np.std(fractal_dims[p]) for p in probs]\n",
    "plt.errorbar(probs, means, yerr=1.96*(stds/np.sqrt(25)), fmt='o', capsize=4, ecolor='grey', color='blue', elinewidth=2)\n",
    "\n",
    "plt.xlabel('Sticking Probability ($p_s$)', fontsize=15)\n",
    "plt.ylabel('Fractal Dimension D', fontsize=15)\n",
    "plt.title('Fractal Dimension vs. $p_s$', fontsize=15)\n",
    "plt.tick_params(axis='both', labelsize=13)\n",
    "plt.tight_layout()\n",
    "plt.grid(True, linestyle='--')\n",
    "plt.ylim(1.2, 1.8)\n",
    "plt.show()"
   ]
  },
  {
   "cell_type": "markdown",
   "metadata": {},
   "source": [
    "### 3: The Gray-Scott model"
   ]
  },
  {
   "cell_type": "markdown",
   "metadata": {},
   "source": [
    "The Gray-Scott model describes a system of chemical reaction where two different species $U$ and $V$ are present. The corresponding reaction-diffusion equations are:\n",
    "\\begin{align}\n",
    "\\frac{\\partial u}{\\partial t} &= D_u \\nabla^2 u - u v^2 + f(1 - u), \\\\\n",
    "\\frac{\\partial v}{\\partial t} &= D_v \\nabla^2 v + u v^2 - (f + k)v.\n",
    "\\end{align}\n",
    "\n",
    "where $D_u$ and $D_v$ are diffusion constants, $f$ is the rate at which $U$ is supplied, and $f+k$ is the rate at which $V$ decays."
   ]
  },
  {
   "cell_type": "markdown",
   "metadata": {},
   "source": [
    "In this experiment, we will investigate different parameter values for $f$ and $k$ and plot/animate the resulting concentration of the species $U$. Below are some parameters that can be modified by the user, including grid size $N$, $dx$, and $dt$"
   ]
  },
  {
   "cell_type": "code",
   "execution_count": null,
   "metadata": {},
   "outputs": [],
   "source": [
    "num_frames = 100\n",
    "\n",
    "N = 300\n",
    "dx = 1\n",
    "dt = 1"
   ]
  },
  {
   "cell_type": "markdown",
   "metadata": {},
   "source": [
    "Below we have four different parameter combinations. The first two values represent $D_u$ and $D_v$, which are fixed, and the last two values represent $f$ and $k$. The latter three patterns ($\\theta$, $\\lambda$, and $\\mu$) are from J. E. Pearson, SCIENCE, 1993."
   ]
  },
  {
   "cell_type": "code",
   "execution_count": null,
   "metadata": {},
   "outputs": [],
   "source": [
    "# Original (parameter combination listed in assignment)\n",
    "param_comb_1 = np.array([0.16, 0.08, 0.035, 0.060], dtype=float)\n",
    "# theta pattern\n",
    "param_comb_2 = np.array([0.16, 0.08, 0.04, 0.06], dtype=float)\n",
    "# lambda pattern\n",
    "param_comb_3 = np.array([0.16, 0.08, 0.04, 0.065], dtype=float)\n",
    "# mu pattern\n",
    "param_comb_4 = np.array([0.16, 0.08, 0.05, 0.065], dtype=float)"
   ]
  },
  {
   "cell_type": "markdown",
   "metadata": {},
   "source": [
    "We now plot each parameter combination at three different time steps:"
   ]
  },
  {
   "cell_type": "code",
   "execution_count": null,
   "metadata": {},
   "outputs": [],
   "source": [
    "# Plot original pattern\n",
    "ori_grid = plot_gray_scott(times=[1000, 5000, 15000], N=N, dx=dx, dt=dt, params=param_comb_1)"
   ]
  },
  {
   "cell_type": "code",
   "execution_count": null,
   "metadata": {},
   "outputs": [],
   "source": [
    "# Plot theta pattern\n",
    "theta_grid = plot_gray_scott(times=[1000, 5000, 15000], N=N, dx=dx, dt=dt, params=param_comb_2)"
   ]
  },
  {
   "cell_type": "code",
   "execution_count": null,
   "metadata": {},
   "outputs": [],
   "source": [
    "# Plot lambda pattern\n",
    "lambda_grid = plot_gray_scott(times=[2000, 8000, 30000], N=N, dx=dx, dt=dt, params=param_comb_3)"
   ]
  },
  {
   "cell_type": "code",
   "execution_count": null,
   "metadata": {},
   "outputs": [],
   "source": [
    "# Plot mu pattern\n",
    "mu_grid = plot_gray_scott(times=[5000, 50000, 150000], N=N, dx=dx, dt=dt, params=param_comb_4)"
   ]
  },
  {
   "cell_type": "markdown",
   "metadata": {},
   "source": [
    "Now we only plot the last frame of the latter three patterns:"
   ]
  },
  {
   "cell_type": "code",
   "execution_count": null,
   "metadata": {},
   "outputs": [],
   "source": [
    "plt.figure(figsize=(20, 6), dpi=300)\n",
    "plt.suptitle(fr'Concentration of U, $D_u = {{{param_comb_1[0]}}}$, $D_v = {{{param_comb_1[1]}}}$', fontsize=19)\n",
    "\n",
    "plt.subplot(1, 3, 1)\n",
    "plt.title(fr'$\\theta$-pattern, $f = {{{param_comb_2[2]}}}$, $k = {{{param_comb_2[3]}}}$', fontsize=17)\n",
    "plt.imshow(theta_grid[:, :, 0], extent=[0, N, 0, N], cmap='inferno')\n",
    "plt.xlabel('x', fontsize=17)\n",
    "plt.ylabel('y', fontsize=17)\n",
    "cbar = plt.colorbar()\n",
    "cbar.ax.tick_params(labelsize=14)\n",
    "cbar.set_label('Concentration U', fontsize=17)\n",
    "\n",
    "plt.subplot(1, 3, 2)\n",
    "plt.title(fr'$\\lambda$-pattern, $f = {{{param_comb_3[2]}}}$, $k = {{{param_comb_3[3]}}}$', fontsize=17)\n",
    "plt.imshow(lambda_grid[:, :, 0], extent=[0, N, 0, N], cmap='inferno')\n",
    "plt.xlabel('x', fontsize=17)\n",
    "cbar = plt.colorbar()\n",
    "cbar.ax.tick_params(labelsize=14)\n",
    "cbar.set_label('Concentration U', fontsize=17)\n",
    "\n",
    "plt.subplot(1, 3, 3)\n",
    "plt.title(fr'$\\mu$-pattern, $f = {{{param_comb_4[2]}}}$, $k = {{{param_comb_4[3]}}}$', fontsize=17)\n",
    "plt.imshow(mu_grid[:, :, 0], extent=[0, N, 0, N], cmap='inferno')\n",
    "plt.xlabel('x', fontsize=17)\n",
    "cbar = plt.colorbar()\n",
    "cbar.ax.tick_params(labelsize=14)\n",
    "cbar.set_label('Concentration U', fontsize=17)\n",
    "\n",
    "plt.subplots_adjust(top=0.8)\n",
    "plt.tight_layout()\n",
    "plt.show()"
   ]
  },
  {
   "cell_type": "markdown",
   "metadata": {},
   "source": [
    "Since the evolution of the system can hard to visualise with static plots, we have implemented functionality to animate the system."
   ]
  },
  {
   "cell_type": "code",
   "execution_count": null,
   "metadata": {},
   "outputs": [],
   "source": [
    "ani1 = animate_gray_scott(num_frames=num_frames, time=15000, N=N, dx=dx, dt=dt, params=param_comb_1)\n",
    "HTML(ani1.to_jshtml())"
   ]
  },
  {
   "cell_type": "code",
   "execution_count": null,
   "metadata": {},
   "outputs": [],
   "source": [
    "ani2 = animate_gray_scott(num_frames=num_frames, time=15000, N=N, dx=dx, dt=dt, params=param_comb_2)\n",
    "HTML(ani2.to_jshtml())"
   ]
  },
  {
   "cell_type": "code",
   "execution_count": null,
   "metadata": {},
   "outputs": [],
   "source": [
    "ani3 = animate_gray_scott(num_frames=num_frames, time=30000, N=N, dx=dx, dt=dt, params=param_comb_3)\n",
    "HTML(ani3.to_jshtml())"
   ]
  },
  {
   "cell_type": "code",
   "execution_count": null,
   "metadata": {},
   "outputs": [],
   "source": [
    "ani4 = animate_gray_scott(num_frames=num_frames, time=150000, N=N, dx=dx, dt=dt, params=param_comb_4)\n",
    "HTML(ani4.to_jshtml())"
   ]
  }
 ],
 "metadata": {
  "kernelspec": {
   "display_name": "base",
   "language": "python",
   "name": "python3"
  },
  "language_info": {
   "codemirror_mode": {
    "name": "ipython",
    "version": 3
   },
   "file_extension": ".py",
   "mimetype": "text/x-python",
   "name": "python",
   "nbconvert_exporter": "python",
   "pygments_lexer": "ipython3",
   "version": "3.11.5"
  }
 },
 "nbformat": 4,
 "nbformat_minor": 2
}
