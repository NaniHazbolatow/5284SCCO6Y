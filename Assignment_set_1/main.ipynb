{
 "cells": [
  {
   "cell_type": "markdown",
   "metadata": {},
   "source": [
    "# Assignment set 1: The 1D wave equation and 2D diffusion equation\n",
    "\n",
    "#### Job Marcelis, Ernani Hazbolatow, Koen Verlaan"
   ]
  },
  {
   "cell_type": "markdown",
   "metadata": {},
   "source": [
    "To show all the results, we import the required functions from the modules in the `src` folder."
   ]
  },
  {
   "cell_type": "code",
   "execution_count": null,
   "metadata": {},
   "outputs": [],
   "source": [
    "from src.exercise1_1 import animate_wave, plotting_snapshots, calculate_wave\n",
    "from src.exercise1_2 import analytical_vs_experimental, plot_heatmap, animate_diffusion\n",
    "from src.exercise1_6 import *\n",
    "from IPython.display import HTML\n",
    "import matplotlib.pyplot as plt\n",
    "\n",
    "plt.rcParams['animation.embed_limit'] = 50"
   ]
  },
  {
   "cell_type": "markdown",
   "metadata": {},
   "source": [
    "#### Exercise 1.1\n",
    "\n",
    "In exercise 1.1, we discretize the 1D wave equation using the central difference method. Three different initial conditions are considered: \n",
    "- $\\Psi(x, t=0) = sin(2\\pi x)$\n",
    "- $\\Psi(x, t=0) = sin(5\\pi x)$\n",
    "- $\\Psi(x, t=0) = sin(5\\pi x)$ if $1/5 < x < 2/5$, else $\\Psi = 0$.\n",
    "\n",
    "These correspond to `wave_data1`, `wave_data2`, and `wave_data3`, respectively. \n",
    "\n",
    "To visualise the wave equation, the parameters `L` (length of the string) and `c` (wave speed) can be chosen. We then simulate the vibrating string for multiple initial conditions for a set number of time steps."
   ]
  },
  {
   "cell_type": "code",
   "execution_count": null,
   "metadata": {},
   "outputs": [],
   "source": [
    "L = 1\n",
    "c = 1\n",
    "N = 1000\n",
    "dt = 0.001\n",
    "timesteps = 1100\n",
    "snapshot_arr = [0, 250, 500, 750, 1000]\n",
    "wave_data1, x = calculate_wave(L, c, N, dt, timesteps, 1)\n",
    "wave_data2, x = calculate_wave(L, c, N, dt, timesteps, 2)\n",
    "wave_data3, x = calculate_wave(L, c, N, dt, timesteps, 3)"
   ]
  },
  {
   "cell_type": "code",
   "execution_count": null,
   "metadata": {},
   "outputs": [],
   "source": [
    "plotting_snapshots([wave_data1, wave_data2, wave_data3], [\"Initial 1\", \"Initial 2\", \"Initial 3\"], x, snapshot_arr, figsize=None)"
   ]
  },
  {
   "cell_type": "markdown",
   "metadata": {},
   "source": [
    "An animation is made to show the time evolution of the vibrating string more clearly. The different initial conditions can be visualised by changing the first parameter of the function `animate_wave`. "
   ]
  },
  {
   "cell_type": "code",
   "execution_count": null,
   "metadata": {},
   "outputs": [],
   "source": [
    "ani = animate_wave(wave_data1, x, timesteps)\n",
    "HTML(ani.to_jshtml())"
   ]
  },
  {
   "cell_type": "markdown",
   "metadata": {},
   "source": [
    "#### Exercise 1.2\n",
    "\n",
    "In the next exercise, we model the 2D diffusion equation of a concentration on a square grid: $0 \\leq x, y \\leq 1$. Furthermore, we have fixed boundary conditions on the top and bottom:\n",
    "- $c(x, y = 1;t) = 1$\n",
    "- $c(x, y = 0;t) = 0$\n",
    "\n",
    "And periodic boundary conditions in de x-direction:\n",
    "- $c(x = 0, y;t) = c(x = 1, y;t)$\n",
    "\n",
    "We use a 5-point stencil to update all the values."
   ]
  },
  {
   "cell_type": "code",
   "execution_count": null,
   "metadata": {},
   "outputs": [],
   "source": [
    "N = 150\n",
    "dt = 0.00001\n",
    "dx = 1/N\n",
    "D = 1\n",
    "test_times = [0, 0.001, 0.01, 0.1, 1]\n",
    "num_frames = 100\n",
    "\n",
    "if 4*dt*D/(dx**2) <= 1:\n",
    "    print(f'Stable: {4*dt*D/(dx**2)}')\n",
    "else:\n",
    "    raise ValueError(f'Not stable ({4*dt*D/(dx**2)}), reduce dt')"
   ]
  },
  {
   "cell_type": "markdown",
   "metadata": {},
   "source": [
    "To test our simulation, we compared our model to the analytical solution for the concentration along the y-axis at the following times: $t = \\{0, 0.001, 0.01, 0.1, 1\\}$"
   ]
  },
  {
   "cell_type": "code",
   "execution_count": null,
   "metadata": {},
   "outputs": [],
   "source": [
    "analytical_vs_experimental(test_times, N, dt, dx, D)"
   ]
  },
  {
   "cell_type": "markdown",
   "metadata": {},
   "source": [
    "To show what happens in the 2D domain, we make a heatmap at different times:"
   ]
  },
  {
   "cell_type": "code",
   "execution_count": null,
   "metadata": {},
   "outputs": [],
   "source": [
    "plot_heatmap([0, 0.01, 1], N, dt, dx, D)"
   ]
  },
  {
   "cell_type": "markdown",
   "metadata": {},
   "source": [
    "A more detailed diffusion is shown with an animation:"
   ]
  },
  {
   "cell_type": "code",
   "execution_count": null,
   "metadata": {},
   "outputs": [],
   "source": [
    "ani = animate_diffusion(num_frames, N, dt, dx, D)\n",
    "HTML(ani.to_jshtml())"
   ]
  },
  {
   "cell_type": "markdown",
   "metadata": {},
   "source": [
    "#### Exercise 1.3-1.6\n",
    "\n",
    "We now continue with the time-independent diffusion equation. Three different iterative methods are compared: `Jacobi Iteration`, `Gauss-Seidel Iteration`, and `Successive Over Relaxation (SOR)`. We investigate the accuracy of the solution and the number of iterations to reach convergence for each method. In addition, the optimal value for $\\omega$ for the SOR method is calculated.\n",
    "\n",
    "Finally, we introduce an increasing number of objects into the computational domain, which act as concentration sinks. This means that the value of the concentration is 0. We then investigate the impact it has on the number of iterations and the optimal omega."
   ]
  },
  {
   "cell_type": "code",
   "execution_count": null,
   "metadata": {},
   "outputs": [],
   "source": [
    "N = 150\n",
    "eps = 1e-5\n",
    "max_iter = int(2e4)\n",
    "omegas = np.linspace(1.7, 2, 100)\n",
    "Ns = np.linspace(10, 200, 20)\n",
    "\n",
    "# These are the boundaries for the objects\n",
    "# per row: i_min, i_max, j_min, j_max\n",
    "\n",
    "########### Squares near the top of domain #############\n",
    "one_square = np.array([[18, 24, 47, 53]])*N/100\n",
    "\n",
    "two_square = np.array([[18, 24, 30, 36],\n",
    "                       [18, 24, 63, 69]])*N/100\n",
    "\n",
    "three_square = np.array([[18, 24, 22, 28],\n",
    "                         [18, 24, 47, 53],\n",
    "                         [18, 24, 72, 78]])*N/100\n",
    "\n",
    "############ Squares near the bottom of domain #############\n",
    "# one_square = np.array([[80, 86, 47, 53]])*N/100\n",
    "\n",
    "# two_square = np.array([[80, 86, 30, 36],\n",
    "#                        [80, 86, 63, 69]])*N/100\n",
    "\n",
    "# three_square = np.array([[80, 86, 22, 28],\n",
    "#                          [80, 86, 47, 53],\n",
    "#                          [80, 86, 72, 78]])*N/100"
   ]
  },
  {
   "cell_type": "markdown",
   "metadata": {},
   "source": [
    "Compare the linear behaviour of the concentration for multiple iterative schemes. For the SOR method, the optimal omega for the corresponding grid size is used (which is plotted later on)."
   ]
  },
  {
   "cell_type": "code",
   "execution_count": null,
   "metadata": {},
   "outputs": [],
   "source": [
    "compare_methods_to_analytical(N, 1.97, eps, max_iter)"
   ]
  },
  {
   "cell_type": "markdown",
   "metadata": {},
   "source": [
    "The convergence is measured using the maximum difference between the last two iterations. This is then plotted versus the number of iterations for different numerical methods (and different values of omega for SOR)."
   ]
  },
  {
   "cell_type": "code",
   "execution_count": null,
   "metadata": {},
   "outputs": [],
   "source": [
    "convergence_measure(N, [1.75, 1.85, 1.95], eps, max_iter)"
   ]
  },
  {
   "cell_type": "markdown",
   "metadata": {},
   "source": [
    "We now search for the optimal omega for the SOR method and investigate how it changes with N"
   ]
  },
  {
   "cell_type": "code",
   "execution_count": null,
   "metadata": {},
   "outputs": [],
   "source": [
    "omegas = optimal_omega(Ns, omegas, eps, max_iter)"
   ]
  },
  {
   "cell_type": "markdown",
   "metadata": {},
   "source": [
    "To obtain exact values, we print the results below:"
   ]
  },
  {
   "cell_type": "code",
   "execution_count": null,
   "metadata": {},
   "outputs": [],
   "source": [
    "for i in range(len(Ns)):\n",
    "    print(f'Optimal omega at N = {int(Ns[i])} is {round(omegas[i], 2)}')"
   ]
  },
  {
   "cell_type": "markdown",
   "metadata": {},
   "source": [
    "Next, the convergence versus the number of iterations for a different number of squares in the grid calculated, $N=150$, $\\omega=1.97$"
   ]
  },
  {
   "cell_type": "code",
   "execution_count": null,
   "metadata": {},
   "outputs": [],
   "source": [
    "convergence_with_objects([one_square, two_square, three_square], N, 1.97, eps, max_iter)"
   ]
  },
  {
   "cell_type": "markdown",
   "metadata": {},
   "source": [
    "To understand the effect of introducing objects into the computational domain, we calculate the optimal $\\omega$ for a different number of concentration sinks. "
   ]
  },
  {
   "cell_type": "code",
   "execution_count": null,
   "metadata": {},
   "outputs": [],
   "source": [
    "opt_omega = optimal_omega([150], omegas, eps, max_iter, plot=False)\n",
    "print(f'The optimal omega without squares is {opt_omega[0]}')\n",
    "optimal_omega_with_objects([one_square, two_square, three_square], N, omegas, eps, max_iter)"
   ]
  },
  {
   "cell_type": "markdown",
   "metadata": {},
   "source": [
    "Finally, we plot the 2D domain with the objects when convergence is reached."
   ]
  },
  {
   "cell_type": "code",
   "execution_count": null,
   "metadata": {},
   "outputs": [],
   "source": [
    "final_grid_1sq, _, _ = SOR_object(init_objects(one_square, N), N, 1.97, eps, max_iter)\n",
    "final_grid_2sq, _, _ = SOR_object(init_objects(two_square, N), N, 1.97, eps, max_iter)\n",
    "final_grid_3sq, _, _ = SOR_object(init_objects(three_square, N), N, 1.97, eps, max_iter)\n",
    "\n",
    "plt.figure(figsize=(18, 5), dpi=300)\n",
    "\n",
    "plt.subplot(1, 3, 1)\n",
    "plt.imshow(final_grid_1sq, extent=[0, 1, 0, 1])\n",
    "plt.xlabel('x', fontsize=17)\n",
    "plt.ylabel('y', fontsize=17)\n",
    "plt.title(f'Diffusion with 1 Concentration Sink', fontsize=16) \n",
    "plt.tick_params(axis=\"both\", labelsize = 13)\n",
    "cbar = plt.colorbar(label='Concentration')\n",
    "cbar.ax.tick_params(labelsize=14)\n",
    "cbar.set_label('Concentration', fontsize=16)\n",
    "\n",
    "plt.subplot(1, 3, 2)\n",
    "plt.imshow(final_grid_2sq, extent=[0, 1, 0, 1])\n",
    "plt.xlabel('x', fontsize=17)\n",
    "plt.title(f'Diffusion with 2 Concentration Sinks', fontsize=16)\n",
    "plt.tick_params(axis=\"both\", labelsize = 13)\n",
    "cbar = plt.colorbar(label='Concentration')\n",
    "cbar.ax.tick_params(labelsize=14)\n",
    "cbar.set_label('Concentration', fontsize=16)\n",
    "\n",
    "plt.subplot(1, 3, 3)\n",
    "plt.imshow(final_grid_3sq, extent=[0, 1, 0, 1])\n",
    "plt.xlabel('x', fontsize=16)\n",
    "plt.title(f'Diffusion with 3 Concentration Sinks', fontsize=16)\n",
    "plt.tick_params(axis=\"both\", labelsize = 13)\n",
    "cbar = plt.colorbar(label='Concentration')\n",
    "cbar.ax.tick_params(labelsize=14)\n",
    "cbar.set_label('Concentration', fontsize=16)\n",
    "\n",
    "plt.tight_layout()\n",
    "plt.show()"
   ]
  }
 ],
 "metadata": {
  "kernelspec": {
   "display_name": "base",
   "language": "python",
   "name": "python3"
  },
  "language_info": {
   "codemirror_mode": {
    "name": "ipython",
    "version": 3
   },
   "file_extension": ".py",
   "mimetype": "text/x-python",
   "name": "python",
   "nbconvert_exporter": "python",
   "pygments_lexer": "ipython3",
   "version": "3.11.5"
  }
 },
 "nbformat": 4,
 "nbformat_minor": 2
}
